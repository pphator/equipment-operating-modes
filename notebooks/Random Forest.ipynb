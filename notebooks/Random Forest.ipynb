{
 "cells": [
  {
   "cell_type": "code",
   "execution_count": 1,
   "id": "361ce7ed",
   "metadata": {},
   "outputs": [],
   "source": [
    "import pandas as pd\n",
    "import numpy as np\n",
    "from matplotlib import pyplot as plt\n",
    "import seaborn as sns"
   ]
  },
  {
   "cell_type": "code",
   "execution_count": 2,
   "id": "58a4f953",
   "metadata": {},
   "outputs": [],
   "source": [
    "from sklearn.ensemble import RandomForestClassifier\n",
    "from sklearn.metrics import confusion_matrix"
   ]
  },
  {
   "cell_type": "code",
   "execution_count": 3,
   "id": "6ba46dbf",
   "metadata": {},
   "outputs": [],
   "source": [
    "from sklearn.model_selection import GridSearchCV, RandomizedSearchCV\n",
    "from sklearn.model_selection import StratifiedKFold"
   ]
  },
  {
   "cell_type": "code",
   "execution_count": 36,
   "id": "223f7fa2",
   "metadata": {},
   "outputs": [],
   "source": [
    "from sklearn.metrics import f1_score, classification_report, roc_auc_score"
   ]
  },
  {
   "cell_type": "code",
   "execution_count": 5,
   "id": "1d08f8ce",
   "metadata": {},
   "outputs": [],
   "source": [
    "data_path = '..\\\\data\\\\'"
   ]
  },
  {
   "cell_type": "code",
   "execution_count": 6,
   "id": "d7000e6a",
   "metadata": {},
   "outputs": [],
   "source": [
    "X_train_val = np.load(data_path + 'features_train_val.npy')\n",
    "y_train_val = np.load(data_path + 'y_train.npy')\n",
    "X_test = np.load(data_path + 'features_test.npy')\n",
    "y_test = np.load(data_path + 'y_test.npy')"
   ]
  },
  {
   "cell_type": "code",
   "execution_count": 7,
   "id": "4cda6f76",
   "metadata": {},
   "outputs": [],
   "source": [
    "labels_train_val = np.array([np.where(r==1)[0][0] for r in y_train_val])\n",
    "labels_test = np.array([np.where(r==1)[0][0] for r in y_test])"
   ]
  },
  {
   "cell_type": "markdown",
   "id": "dbe528f3",
   "metadata": {},
   "source": [
    "Подберём гиперпараметры на кросс-валидации с помощью случайного поиска по сетке"
   ]
  },
  {
   "cell_type": "code",
   "execution_count": 60,
   "id": "f804a237",
   "metadata": {},
   "outputs": [
    {
     "name": "stdout",
     "output_type": "stream",
     "text": [
      "Fitting 5 folds for each of 10 candidates, totalling 50 fits\n"
     ]
    },
    {
     "name": "stderr",
     "output_type": "stream",
     "text": [
      "[Parallel(n_jobs=-1)]: Using backend LokyBackend with 4 concurrent workers.\n",
      "[Parallel(n_jobs=-1)]: Done  33 tasks      | elapsed:  5.8min\n",
      "[Parallel(n_jobs=-1)]: Done  50 out of  50 | elapsed:  9.0min finished\n"
     ]
    },
    {
     "name": "stdout",
     "output_type": "stream",
     "text": [
      "0.975330698806659\n",
      "{'n_estimators': 100, 'min_samples_split': 8, 'min_samples_leaf': 2, 'max_features': 'log2', 'max_depth': None}\n"
     ]
    }
   ],
   "source": [
    "model = RandomForestClassifier(random_state=42)\n",
    "cv_obj = StratifiedKFold(n_splits=5, shuffle=True, random_state=42)\n",
    "\n",
    "parameters = {'n_estimators': [50, 100, 200, 400, 1000, 3000],\n",
    "              'max_depth': [None, 2, 4, 5, 8, 10],\n",
    "              'min_samples_split': [2, 4, 6, 8],\n",
    "              'min_samples_leaf': [2, 4, 5, 10],\n",
    "              'max_features': ['auto', 'sqrt', 'log2']}\n",
    "\n",
    "clf = RandomizedSearchCV(model, parameters, scoring='f1_macro', n_jobs=-1, verbose=2, cv=cv_obj)\n",
    "clf.fit(X_train_val, labels_train_val)\n",
    "print(clf.best_score_)\n",
    "print(clf.best_params_)"
   ]
  },
  {
   "cell_type": "code",
   "execution_count": 61,
   "id": "6e71103b",
   "metadata": {},
   "outputs": [
    {
     "data": {
      "text/plain": [
       "{'mean_fit_time': array([  1.82880154,  12.87839866,  37.17513399,   6.34919791,\n",
       "        138.46829162, 100.13618584,   2.66278715,   3.92815423,\n",
       "         56.50195479,  58.00991445]),\n",
       " 'std_fit_time': array([ 0.03725118,  0.18939855,  2.88502798,  0.16319543, 13.84991866,\n",
       "         3.20882202,  0.20352448,  0.57122411,  0.38102183,  7.22804866]),\n",
       " 'mean_score_time': array([0.05659833, 0.23440466, 0.45880423, 0.10340033, 2.223488  ,\n",
       "        1.79786129, 0.05479741, 0.06180563, 1.36183138, 0.73131232]),\n",
       " 'std_score_time': array([0.00728396, 0.02420084, 0.05651789, 0.01132439, 0.8471986 ,\n",
       "        0.55279702, 0.0275168 , 0.0021397 , 0.07289159, 0.26514717]),\n",
       " 'param_n_estimators': masked_array(data=[100, 400, 1000, 200, 3000, 3000, 50, 100, 3000, 1000],\n",
       "              mask=[False, False, False, False, False, False, False, False,\n",
       "                    False, False],\n",
       "        fill_value='?',\n",
       "             dtype=object),\n",
       " 'param_min_samples_split': masked_array(data=[6, 8, 4, 4, 8, 4, 2, 8, 4, 4],\n",
       "              mask=[False, False, False, False, False, False, False, False,\n",
       "                    False, False],\n",
       "        fill_value='?',\n",
       "             dtype=object),\n",
       " 'param_min_samples_leaf': masked_array(data=[5, 2, 2, 4, 4, 10, 4, 2, 2, 2],\n",
       "              mask=[False, False, False, False, False, False, False, False,\n",
       "                    False, False],\n",
       "        fill_value='?',\n",
       "             dtype=object),\n",
       " 'param_max_features': masked_array(data=['log2', 'log2', 'sqrt', 'log2', 'auto', 'sqrt', 'sqrt',\n",
       "                    'log2', 'log2', 'sqrt'],\n",
       "              mask=[False, False, False, False, False, False, False, False,\n",
       "                    False, False],\n",
       "        fill_value='?',\n",
       "             dtype=object),\n",
       " 'param_max_depth': masked_array(data=[4, 10, 5, 10, 8, 4, 5, None, 4, 8],\n",
       "              mask=[False, False, False, False, False, False, False, False,\n",
       "                    False, False],\n",
       "        fill_value='?',\n",
       "             dtype=object),\n",
       " 'params': [{'n_estimators': 100,\n",
       "   'min_samples_split': 6,\n",
       "   'min_samples_leaf': 5,\n",
       "   'max_features': 'log2',\n",
       "   'max_depth': 4},\n",
       "  {'n_estimators': 400,\n",
       "   'min_samples_split': 8,\n",
       "   'min_samples_leaf': 2,\n",
       "   'max_features': 'log2',\n",
       "   'max_depth': 10},\n",
       "  {'n_estimators': 1000,\n",
       "   'min_samples_split': 4,\n",
       "   'min_samples_leaf': 2,\n",
       "   'max_features': 'sqrt',\n",
       "   'max_depth': 5},\n",
       "  {'n_estimators': 200,\n",
       "   'min_samples_split': 4,\n",
       "   'min_samples_leaf': 4,\n",
       "   'max_features': 'log2',\n",
       "   'max_depth': 10},\n",
       "  {'n_estimators': 3000,\n",
       "   'min_samples_split': 8,\n",
       "   'min_samples_leaf': 4,\n",
       "   'max_features': 'auto',\n",
       "   'max_depth': 8},\n",
       "  {'n_estimators': 3000,\n",
       "   'min_samples_split': 4,\n",
       "   'min_samples_leaf': 10,\n",
       "   'max_features': 'sqrt',\n",
       "   'max_depth': 4},\n",
       "  {'n_estimators': 50,\n",
       "   'min_samples_split': 2,\n",
       "   'min_samples_leaf': 4,\n",
       "   'max_features': 'sqrt',\n",
       "   'max_depth': 5},\n",
       "  {'n_estimators': 100,\n",
       "   'min_samples_split': 8,\n",
       "   'min_samples_leaf': 2,\n",
       "   'max_features': 'log2',\n",
       "   'max_depth': None},\n",
       "  {'n_estimators': 3000,\n",
       "   'min_samples_split': 4,\n",
       "   'min_samples_leaf': 2,\n",
       "   'max_features': 'log2',\n",
       "   'max_depth': 4},\n",
       "  {'n_estimators': 1000,\n",
       "   'min_samples_split': 4,\n",
       "   'min_samples_leaf': 2,\n",
       "   'max_features': 'sqrt',\n",
       "   'max_depth': 8}],\n",
       " 'split0_test_score': array([0.88207039, 0.96443411, 0.92156344, 0.9633423 , 0.95662828,\n",
       "        0.90340721, 0.91528413, 0.97050873, 0.88480088, 0.96043389]),\n",
       " 'split1_test_score': array([0.87297012, 0.96783851, 0.92829686, 0.96912465, 0.96215872,\n",
       "        0.90514576, 0.92939958, 0.97689941, 0.88227812, 0.96360289]),\n",
       " 'split2_test_score': array([0.8940436 , 0.97058581, 0.92490927, 0.96704915, 0.96292017,\n",
       "        0.90513141, 0.91389941, 0.97582088, 0.89044232, 0.96435456]),\n",
       " 'split3_test_score': array([0.87997801, 0.9688635 , 0.91725008, 0.9697685 , 0.96151158,\n",
       "        0.89536461, 0.9107123 , 0.98176257, 0.88634447, 0.9627568 ]),\n",
       " 'split4_test_score': array([0.86228728, 0.96755513, 0.91644548, 0.96624851, 0.9581947 ,\n",
       "        0.88466614, 0.90597884, 0.9716619 , 0.87222288, 0.95609598]),\n",
       " 'mean_test_score': array([0.87826988, 0.96785541, 0.92169303, 0.96710662, 0.96028269,\n",
       "        0.89874303, 0.91505485, 0.9753307 , 0.88321773, 0.96144882]),\n",
       " 'std_test_score': array([0.01048525, 0.00201331, 0.00449996, 0.00228332, 0.00243723,\n",
       "        0.0079137 , 0.00785354, 0.00401949, 0.00610323, 0.00298252]),\n",
       " 'rank_test_score': array([10,  2,  6,  3,  5,  8,  7,  1,  9,  4])}"
      ]
     },
     "execution_count": 61,
     "metadata": {},
     "output_type": "execute_result"
    }
   ],
   "source": [
    "clf.cv_results_"
   ]
  },
  {
   "cell_type": "markdown",
   "id": "9a0fa09b",
   "metadata": {},
   "source": [
    "Определим модель с учётом лучшего набора параметров"
   ]
  },
  {
   "cell_type": "code",
   "execution_count": 62,
   "id": "d3b39df6",
   "metadata": {},
   "outputs": [],
   "source": [
    "final_model = RandomForestClassifier(n_estimators=100, min_samples_split=8, \n",
    "                                     min_samples_leaf=2, max_features='log2', max_depth=None, random_state=42)"
   ]
  },
  {
   "cell_type": "code",
   "execution_count": 63,
   "id": "1e98db6d",
   "metadata": {},
   "outputs": [
    {
     "data": {
      "text/plain": [
       "RandomForestClassifier(max_features='log2', min_samples_leaf=2,\n",
       "                       min_samples_split=8, random_state=42)"
      ]
     },
     "execution_count": 63,
     "metadata": {},
     "output_type": "execute_result"
    }
   ],
   "source": [
    "final_model.fit(X_train_val, labels_train_val)"
   ]
  },
  {
   "cell_type": "markdown",
   "id": "462d4d97",
   "metadata": {},
   "source": [
    "Посчитаем прогноз на обучающем наборе"
   ]
  },
  {
   "cell_type": "code",
   "execution_count": 64,
   "id": "aea8758e",
   "metadata": {},
   "outputs": [],
   "source": [
    "y_pred_train = final_model.predict(X_train_val)"
   ]
  },
  {
   "cell_type": "code",
   "execution_count": 65,
   "id": "34977014",
   "metadata": {},
   "outputs": [
    {
     "data": {
      "text/plain": [
       "array([[1226,    0,    0,    0,    0,    0],\n",
       "       [   0, 1073,    0,    0,    0,    0],\n",
       "       [   0,    0,  986,    0,    0,    0],\n",
       "       [   0,    0,    0, 1284,    2,    0],\n",
       "       [   0,    0,    0,    0, 1374,    0],\n",
       "       [   0,    0,    0,    0,    0, 1407]], dtype=int64)"
      ]
     },
     "execution_count": 65,
     "metadata": {},
     "output_type": "execute_result"
    }
   ],
   "source": [
    "confusion_matrix(labels_train_val, y_pred_train)"
   ]
  },
  {
   "cell_type": "markdown",
   "id": "4e4bd505",
   "metadata": {},
   "source": [
    "Сделаем прогноз на тестовой части"
   ]
  },
  {
   "cell_type": "code",
   "execution_count": 66,
   "id": "be0d51f8",
   "metadata": {},
   "outputs": [],
   "source": [
    "y_pred = final_model.predict(X_test)"
   ]
  },
  {
   "cell_type": "code",
   "execution_count": 67,
   "id": "c6418115",
   "metadata": {},
   "outputs": [],
   "source": [
    "y_pred_proba = final_model.predict_proba(X_test)"
   ]
  },
  {
   "cell_type": "code",
   "execution_count": 68,
   "id": "ee20e288",
   "metadata": {},
   "outputs": [
    {
     "data": {
      "text/plain": [
       "array([[436,  28,  32,   0,   0,   0],\n",
       "       [ 54, 410,   7,   0,   0,   0],\n",
       "       [ 49,  45, 326,   0,   0,   0],\n",
       "       [  0,   1,   0, 419,  71,   0],\n",
       "       [  0,   0,   0,  43, 489,   0],\n",
       "       [  0,   0,   0,   0,   0, 537]], dtype=int64)"
      ]
     },
     "execution_count": 68,
     "metadata": {},
     "output_type": "execute_result"
    }
   ],
   "source": [
    "confusion_matrix(labels_test, y_pred)"
   ]
  },
  {
   "cell_type": "code",
   "execution_count": 69,
   "id": "8c711f29",
   "metadata": {},
   "outputs": [
    {
     "name": "stdout",
     "output_type": "stream",
     "text": [
      "              precision    recall  f1-score   support\n",
      "\n",
      "           0       0.81      0.88      0.84       496\n",
      "           1       0.85      0.87      0.86       471\n",
      "           2       0.89      0.78      0.83       420\n",
      "           3       0.91      0.85      0.88       491\n",
      "           4       0.87      0.92      0.90       532\n",
      "           5       1.00      1.00      1.00       537\n",
      "\n",
      "    accuracy                           0.89      2947\n",
      "   macro avg       0.89      0.88      0.88      2947\n",
      "weighted avg       0.89      0.89      0.89      2947\n",
      "\n"
     ]
    }
   ],
   "source": [
    "print(classification_report(labels_test, y_pred))"
   ]
  },
  {
   "cell_type": "code",
   "execution_count": 70,
   "id": "29172d08",
   "metadata": {},
   "outputs": [
    {
     "data": {
      "text/plain": [
       "0.8844428168797478"
      ]
     },
     "execution_count": 70,
     "metadata": {},
     "output_type": "execute_result"
    }
   ],
   "source": [
    "f1_score(labels_test, y_pred, average='macro')"
   ]
  },
  {
   "cell_type": "code",
   "execution_count": 71,
   "id": "432fc625",
   "metadata": {},
   "outputs": [
    {
     "data": {
      "text/plain": [
       "0.9889342316396819"
      ]
     },
     "execution_count": 71,
     "metadata": {},
     "output_type": "execute_result"
    }
   ],
   "source": [
    "roc_auc_score(labels_test, y_pred_proba, multi_class='ovo')"
   ]
  },
  {
   "cell_type": "code",
   "execution_count": null,
   "id": "2240694d",
   "metadata": {},
   "outputs": [],
   "source": []
  }
 ],
 "metadata": {
  "kernelspec": {
   "display_name": "Python 3",
   "language": "python",
   "name": "python3"
  },
  "language_info": {
   "codemirror_mode": {
    "name": "ipython",
    "version": 3
   },
   "file_extension": ".py",
   "mimetype": "text/x-python",
   "name": "python",
   "nbconvert_exporter": "python",
   "pygments_lexer": "ipython3",
   "version": "3.8.5"
  }
 },
 "nbformat": 4,
 "nbformat_minor": 5
}
