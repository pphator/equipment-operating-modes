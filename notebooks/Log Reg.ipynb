{
 "cells": [
  {
   "cell_type": "code",
   "execution_count": 1,
   "id": "e28cffbe",
   "metadata": {},
   "outputs": [],
   "source": [
    "import pandas as pd\n",
    "import numpy as np\n",
    "from matplotlib import pyplot as plt\n",
    "import seaborn as sns\n",
    "\n",
    "from sklearn.linear_model import LogisticRegression\n",
    "from sklearn.metrics import confusion_matrix"
   ]
  },
  {
   "cell_type": "code",
   "execution_count": 5,
   "id": "d35c1c64",
   "metadata": {},
   "outputs": [],
   "source": [
    "from sklearn.preprocessing import MinMaxScaler"
   ]
  },
  {
   "cell_type": "code",
   "execution_count": 9,
   "id": "dc9fc47f",
   "metadata": {},
   "outputs": [],
   "source": [
    "from sklearn.model_selection import GridSearchCV, RandomizedSearchCV\n",
    "from sklearn.model_selection import StratifiedKFold"
   ]
  },
  {
   "cell_type": "code",
   "execution_count": 21,
   "id": "b6b6b4e7",
   "metadata": {},
   "outputs": [],
   "source": [
    "from sklearn.metrics import f1_score, classification_report, roc_auc_score"
   ]
  },
  {
   "cell_type": "code",
   "execution_count": 2,
   "id": "ffdd7de1",
   "metadata": {},
   "outputs": [],
   "source": [
    "data_path = '..\\\\data\\\\'"
   ]
  },
  {
   "cell_type": "code",
   "execution_count": 3,
   "id": "d97a3661",
   "metadata": {},
   "outputs": [],
   "source": [
    "X_train_val = np.load(data_path + 'features_train_val.npy')\n",
    "y_train_val = np.load(data_path + 'y_train.npy')\n",
    "X_test = np.load(data_path + 'features_test.npy')\n",
    "y_test = np.load(data_path + 'y_test.npy')"
   ]
  },
  {
   "cell_type": "code",
   "execution_count": 4,
   "id": "018ac1cc",
   "metadata": {},
   "outputs": [],
   "source": [
    "labels_train_val = np.array([np.where(r==1)[0][0] for r in y_train_val])\n",
    "labels_test = np.array([np.where(r==1)[0][0] for r in y_test])"
   ]
  },
  {
   "cell_type": "markdown",
   "id": "15c882f5",
   "metadata": {},
   "source": [
    "Нормализуем данные"
   ]
  },
  {
   "cell_type": "code",
   "execution_count": 6,
   "id": "5bbc6972",
   "metadata": {},
   "outputs": [],
   "source": [
    "scaler = MinMaxScaler()"
   ]
  },
  {
   "cell_type": "code",
   "execution_count": 7,
   "id": "ed1668f7",
   "metadata": {},
   "outputs": [],
   "source": [
    "X_train_val[:, :-27] = scaler.fit_transform(X_train_val[:, :-27])\n",
    "X_test[:, :-27] = scaler.transform(X_test[:, :-27])"
   ]
  },
  {
   "cell_type": "markdown",
   "id": "f8274d52",
   "metadata": {},
   "source": [
    "Подберём гиперпараметры на кросс-валидации"
   ]
  },
  {
   "cell_type": "code",
   "execution_count": 10,
   "id": "dc532c7a",
   "metadata": {},
   "outputs": [
    {
     "name": "stdout",
     "output_type": "stream",
     "text": [
      "Fitting 5 folds for each of 10 candidates, totalling 50 fits\n"
     ]
    },
    {
     "name": "stderr",
     "output_type": "stream",
     "text": [
      "[Parallel(n_jobs=-1)]: Using backend LokyBackend with 4 concurrent workers.\n",
      "[Parallel(n_jobs=-1)]: Done  33 tasks      | elapsed:   16.6s\n",
      "[Parallel(n_jobs=-1)]: Done  50 out of  50 | elapsed:  1.8min finished\n",
      "C:\\Users\\vboychuk\\Anaconda3\\lib\\site-packages\\sklearn\\linear_model\\_logistic.py:1320: UserWarning: Setting penalty='none' will ignore the C and l1_ratio parameters\n",
      "  warnings.warn(\n"
     ]
    },
    {
     "name": "stdout",
     "output_type": "stream",
     "text": [
      "0.9506447960164847\n",
      "{'solver': 'lbfgs', 'penalty': 'none', 'max_iter': 1000, 'C': 0.75}\n"
     ]
    },
    {
     "name": "stderr",
     "output_type": "stream",
     "text": [
      "C:\\Users\\vboychuk\\Anaconda3\\lib\\site-packages\\sklearn\\linear_model\\_logistic.py:762: ConvergenceWarning: lbfgs failed to converge (status=1):\n",
      "STOP: TOTAL NO. of ITERATIONS REACHED LIMIT.\n",
      "\n",
      "Increase the number of iterations (max_iter) or scale the data as shown in:\n",
      "    https://scikit-learn.org/stable/modules/preprocessing.html\n",
      "Please also refer to the documentation for alternative solver options:\n",
      "    https://scikit-learn.org/stable/modules/linear_model.html#logistic-regression\n",
      "  n_iter_i = _check_optimize_result(\n"
     ]
    }
   ],
   "source": [
    "model = LogisticRegression(multi_class='multinomial', random_state=42)\n",
    "cv_obj = StratifiedKFold(n_splits=5, shuffle=True, random_state=42)\n",
    "\n",
    "parameters = {'penalty': ['l1', 'l2', 'elasticnet', 'none'],\n",
    "              'C': [0.5, 0.75, 1, 1.25, 1.5, 2, 2.5],\n",
    "              'solver': ['newton-cg', 'lbfgs', 'liblinear'],\n",
    "              'max_iter': [100, 200, 500, 1000]}\n",
    "\n",
    "clf = RandomizedSearchCV(model, parameters, scoring='f1_macro', n_jobs=-1, verbose=2, cv=cv_obj)\n",
    "clf.fit(X_train_val, labels_train_val)\n",
    "print(clf.best_score_)\n",
    "print(clf.best_params_)"
   ]
  },
  {
   "cell_type": "markdown",
   "id": "ed9082b6",
   "metadata": {},
   "source": [
    "Определим модель с учётом оптимального набора гиперпараметров"
   ]
  },
  {
   "cell_type": "code",
   "execution_count": 25,
   "id": "5226e53a",
   "metadata": {},
   "outputs": [],
   "source": [
    "final_model = LogisticRegression(solver='lbfgs', penalty='l2', max_iter=1000, C=0.75, multi_class='multinomial', random_state=42)"
   ]
  },
  {
   "cell_type": "code",
   "execution_count": 26,
   "id": "b05177b0",
   "metadata": {},
   "outputs": [
    {
     "data": {
      "text/plain": [
       "LogisticRegression(C=0.75, max_iter=1000, multi_class='multinomial',\n",
       "                   random_state=42)"
      ]
     },
     "execution_count": 26,
     "metadata": {},
     "output_type": "execute_result"
    }
   ],
   "source": [
    "final_model.fit(X_train_val, labels_train_val)"
   ]
  },
  {
   "cell_type": "markdown",
   "id": "4cf98bc3",
   "metadata": {},
   "source": [
    "Сделаем прогноз для тренировочной части набора данных"
   ]
  },
  {
   "cell_type": "code",
   "execution_count": 27,
   "id": "d14abc09",
   "metadata": {},
   "outputs": [],
   "source": [
    "y_pred_train = final_model.predict(X_train_val)"
   ]
  },
  {
   "cell_type": "code",
   "execution_count": 28,
   "id": "0f12d344",
   "metadata": {},
   "outputs": [
    {
     "data": {
      "text/plain": [
       "array([[1182,   32,   12,    0,    0,    0],\n",
       "       [  54, 1010,    9,    0,    0,    0],\n",
       "       [  25,   17,  944,    0,    0,    0],\n",
       "       [   0,    1,    0, 1077,  201,    7],\n",
       "       [   0,    0,    0,  146, 1228,    0],\n",
       "       [   0,    0,    0,    0,    0, 1407]], dtype=int64)"
      ]
     },
     "execution_count": 28,
     "metadata": {},
     "output_type": "execute_result"
    }
   ],
   "source": [
    "confusion_matrix(labels_train_val, y_pred_train)"
   ]
  },
  {
   "cell_type": "markdown",
   "id": "3e377de1",
   "metadata": {},
   "source": [
    "Сделаем прогноз на тестовом наборе"
   ]
  },
  {
   "cell_type": "code",
   "execution_count": 29,
   "id": "02690e08",
   "metadata": {},
   "outputs": [],
   "source": [
    "y_pred = final_model.predict(X_test)"
   ]
  },
  {
   "cell_type": "code",
   "execution_count": 30,
   "id": "ab4e31cc",
   "metadata": {},
   "outputs": [],
   "source": [
    "y_pred_proba = final_model.predict_proba(X_test)"
   ]
  },
  {
   "cell_type": "code",
   "execution_count": 31,
   "id": "822927aa",
   "metadata": {},
   "outputs": [
    {
     "data": {
      "text/plain": [
       "array([[476,   0,  20,   0,   0,   0],\n",
       "       [ 34, 423,  14,   0,   0,   0],\n",
       "       [ 36,  14, 370,   0,   0,   0],\n",
       "       [  0,   2,   0, 385, 104,   0],\n",
       "       [  1,   0,   0,  63, 468,   0],\n",
       "       [  0,   0,   0,   0,  27, 510]], dtype=int64)"
      ]
     },
     "execution_count": 31,
     "metadata": {},
     "output_type": "execute_result"
    }
   ],
   "source": [
    "confusion_matrix(labels_test, y_pred)"
   ]
  },
  {
   "cell_type": "markdown",
   "id": "85db33a9",
   "metadata": {},
   "source": [
    "Посчитаем метрики"
   ]
  },
  {
   "cell_type": "code",
   "execution_count": 33,
   "id": "c535eaf7",
   "metadata": {},
   "outputs": [
    {
     "name": "stdout",
     "output_type": "stream",
     "text": [
      "              precision    recall  f1-score   support\n",
      "\n",
      "           0       0.87      0.96      0.91       496\n",
      "           1       0.96      0.90      0.93       471\n",
      "           2       0.92      0.88      0.90       420\n",
      "           3       0.86      0.78      0.82       491\n",
      "           4       0.78      0.88      0.83       532\n",
      "           5       1.00      0.95      0.97       537\n",
      "\n",
      "    accuracy                           0.89      2947\n",
      "   macro avg       0.90      0.89      0.89      2947\n",
      "weighted avg       0.90      0.89      0.89      2947\n",
      "\n"
     ]
    }
   ],
   "source": [
    "print(classification_report(labels_test, y_pred))"
   ]
  },
  {
   "cell_type": "code",
   "execution_count": 32,
   "id": "186451ff",
   "metadata": {},
   "outputs": [
    {
     "data": {
      "text/plain": [
       "0.8937166334141492"
      ]
     },
     "execution_count": 32,
     "metadata": {},
     "output_type": "execute_result"
    }
   ],
   "source": [
    "f1_score(labels_test, y_pred, average='macro')"
   ]
  },
  {
   "cell_type": "code",
   "execution_count": 34,
   "id": "a98824c0",
   "metadata": {},
   "outputs": [
    {
     "data": {
      "text/plain": [
       "0.9880712942186649"
      ]
     },
     "execution_count": 34,
     "metadata": {},
     "output_type": "execute_result"
    }
   ],
   "source": [
    "roc_auc_score(labels_test, y_pred_proba, multi_class='ovo')"
   ]
  },
  {
   "cell_type": "code",
   "execution_count": null,
   "id": "b732cc15",
   "metadata": {},
   "outputs": [],
   "source": []
  }
 ],
 "metadata": {
  "kernelspec": {
   "display_name": "Python 3",
   "language": "python",
   "name": "python3"
  },
  "language_info": {
   "codemirror_mode": {
    "name": "ipython",
    "version": 3
   },
   "file_extension": ".py",
   "mimetype": "text/x-python",
   "name": "python",
   "nbconvert_exporter": "python",
   "pygments_lexer": "ipython3",
   "version": "3.8.5"
  }
 },
 "nbformat": 4,
 "nbformat_minor": 5
}
